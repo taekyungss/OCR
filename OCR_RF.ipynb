{
 "cells": [
  {
   "cell_type": "code",
   "execution_count": 1,
   "metadata": {},
   "outputs": [],
   "source": [
    "# !pip3 install torch==1.2.0+cu92 torchvision==0.4.0+cu92 -f https://download.pytorch.org/whl/torch_stable.html\n",
    "# !pip install easyocr"
   ]
  },
  {
   "cell_type": "code",
   "execution_count": 8,
   "metadata": {},
   "outputs": [],
   "source": [
    "import easyocr\n",
    "import cv2\n",
    "from matplotlib import pyplot as plt\n",
    "import numpy as np\n",
    "import re\n",
    "import nltk"
   ]
  },
  {
   "cell_type": "code",
   "execution_count": 70,
   "metadata": {},
   "outputs": [
    {
     "name": "stderr",
     "output_type": "stream",
     "text": [
      "CUDA not available - defaulting to CPU. Note: This module is much faster with a GPU.\n"
     ]
    },
    {
     "name": "stdout",
     "output_type": "stream",
     "text": [
      "['dongguk', 'university', 'baeksang', 'festival', '23.', '05.', '23tue', '25thu', 'comming', 'soon']\n"
     ]
    }
   ],
   "source": [
    "#\n",
    "IMAGE_PATH = '/Users/taekyung/Desktop/kiwi/DG.jpg'\n",
    "reader = easyocr.Reader(['en'])\n",
    "result = reader.readtext(IMAGE_PATH,detail=0)\n",
    "\n",
    "cleaned_content=[]\n",
    "\n",
    "for sentence in result:\n",
    "    split_ele = sentence.split()\n",
    "    cleaned_content.append(split_ele)\n",
    "all_cleaned_content = sum(cleaned_content,[])\n",
    "\n",
    "OCR_result=[]\n",
    "\n",
    "for ele in all_cleaned_content:\n",
    "    if len(ele)>=3 and ele != \"R=3\":\n",
    "        OCR_result.append(re.sub(r'[^\\.\\?\\!\\w\\d\\s]','',ele).lower())\n",
    "        \n",
    "print(OCR_result)\n"
   ]
  }
 ],
 "metadata": {
  "interpreter": {
   "hash": "e9301aca730bb6d9e033b6d7af83c53e63b95a14b89cf2528c55ed95633f04ab"
  },
  "kernelspec": {
   "display_name": "Python 3.9.7",
   "language": "python",
   "name": "python3"
  },
  "language_info": {
   "codemirror_mode": {
    "name": "ipython",
    "version": 3
   },
   "file_extension": ".py",
   "mimetype": "text/x-python",
   "name": "python",
   "nbconvert_exporter": "python",
   "pygments_lexer": "ipython3",
   "version": "3.9.7"
  },
  "orig_nbformat": 4
 },
 "nbformat": 4,
 "nbformat_minor": 2
}
